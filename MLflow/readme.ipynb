{
 "cells": [
  {
   "cell_type": "markdown",
   "metadata": {},
   "source": [
    "python.exe -m pip install --upgrade pip\n",
    "\n",
    "pip install --upgrade pipenv"
   ]
  },
  {
   "cell_type": "markdown",
   "metadata": {},
   "source": [
    "# Initialize MLflow\n",
    "With MLflow installed and configured in WLS2\n",
    "\n",
    "Assumes installed pipenv and mlflow.\n",
    "\n",
    "Run script to start MLflow server\n",
    "```\n",
    "#sh\n",
    "pipenv run mlflow server --host 127.0.0.0 --port 8081\n",
    "```\n",
    "\n",
    "Test on host if MLFflow server can be accessed:\n",
    "http://127.0.0.1:8081/"
   ]
  },
  {
   "cell_type": "markdown",
   "metadata": {},
   "source": [
    "# Prepare env in windows\n",
    "```\n",
    "pipenv shell\n",
    "```\n",
    "\n",
    "If the environment havent been configured before\n",
    "```\n",
    "pipenv lock\n",
    "pipenv sync \n",
    "```"
   ]
  },
  {
   "cell_type": "markdown",
   "metadata": {},
   "source": []
  },
  {
   "cell_type": "markdown",
   "metadata": {},
   "source": [
    "RuntimeError: Failed to lock Pipfile.lock! \n",
    "\n",
    "pip install --upgrade pipenv"
   ]
  }
 ],
 "metadata": {
  "language_info": {
   "name": "python"
  }
 },
 "nbformat": 4,
 "nbformat_minor": 2
}
